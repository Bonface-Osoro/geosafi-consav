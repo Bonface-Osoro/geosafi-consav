{
 "cells": [
  {
   "cell_type": "code",
   "execution_count": 2,
   "id": "672a2117-4dd2-4273-a156-460907e27111",
   "metadata": {},
   "outputs": [],
   "source": [
    "import os\n",
    "import warnings\n",
    "import pandas as pd\n",
    "pd.options.mode.chained_assignment = None\n",
    "warnings.filterwarnings('ignore')"
   ]
  },
  {
   "cell_type": "code",
   "execution_count": 18,
   "id": "9267f0a6",
   "metadata": {},
   "outputs": [],
   "source": [
    "satellites = {\n",
    "    'AGO' : 10,\n",
    "    'BEN' : 5,\n",
    "    'BWA' : 8,\n",
    "    'BFA' : 5,\n",
    "    'BDI' : 4,\n",
    "    'CMR' : 8,\n",
    "    'CAF' : 6,\n",
    "    'TCD' : 11,\n",
    "    'COD' : 21,\n",
    "    'COG' : 5, \n",
    "    'CIV' : 5,\n",
    "    'DJI' : 2,\n",
    "    'GNQ' : 2,\n",
    "    'ERI' : 4,\n",
    "    'SWZ' : 2,\n",
    "    'ETH' : 7,\n",
    "    'GAB' : 5,\n",
    "    'GMB' : 2,\n",
    "    'GHA' : 5,\n",
    "    'GIN' : 5,\n",
    "    'GNB' : 3,\n",
    "    'KEN' : 7,\n",
    "    'LSO' : 2,\n",
    "    'LBR' : 3,\n",
    "    'MDG' : 11,\n",
    "    'MWI' : 5,\n",
    "    'MLI' : 10,\n",
    "    'MRT' : 11,\n",
    "    'MOZ' : 8,\n",
    "    'NAM' : 10,\n",
    "    'NER' : 6,\n",
    "    'NGA' : 10,\n",
    "    'RWA' : 4,\n",
    "    'SEN' : 5,\n",
    "    'SLE' : 4,\n",
    "    'SOM' : 11,\n",
    "    'ZAF' : 12,\n",
    "    'SSD' : 6,\n",
    "    'SDN' : 18,\n",
    "    'TZA' : 15,\n",
    "    'TGO' : 4,\n",
    "    'UGA' : 7,\n",
    "    'ZMB' : 9,\n",
    "    'ZWE' : 5\n",
    "    \n",
    "}"
   ]
  },
  {
   "cell_type": "code",
   "execution_count": 19,
   "id": "f4b4d33e",
   "metadata": {},
   "outputs": [],
   "source": [
    "def number_of_satellites(iso3):\n",
    "    \n",
    "    \"\"\"\n",
    "    This function returns the number of satellites over a particular country.\n",
    "    \n",
    "    Parameters\n",
    "    ----------\n",
    "    iso3 : string\n",
    "        Country ISO3 code\n",
    "\n",
    "    Returns\n",
    "    -------\n",
    "    number_of_satellites : int\n",
    "        Number of satellites over a country.\n",
    "    \"\"\"\n",
    "    for key, sat_numbers in satellites.items():\n",
    "\n",
    "        if key == iso3:\n",
    "            \n",
    "            number_of_satellites = sat_numbers\n",
    "\n",
    "    return number_of_satellites"
   ]
  },
  {
   "cell_type": "code",
   "execution_count": 21,
   "id": "53cfa761",
   "metadata": {},
   "outputs": [
    {
     "data": {
      "text/plain": [
       "15"
      ]
     },
     "execution_count": 21,
     "metadata": {},
     "output_type": "execute_result"
    }
   ],
   "source": [
    "number_of_satellites('TZA')"
   ]
  },
  {
   "cell_type": "code",
   "execution_count": null,
   "id": "411a705b",
   "metadata": {},
   "outputs": [],
   "source": []
  },
  {
   "cell_type": "code",
   "execution_count": null,
   "id": "e79bbc7c-50e4-4600-8ae9-528847a699f4",
   "metadata": {},
   "outputs": [],
   "source": []
  }
 ],
 "metadata": {
  "kernelspec": {
   "display_name": "Python 3 (ipykernel)",
   "language": "python",
   "name": "python3"
  },
  "language_info": {
   "codemirror_mode": {
    "name": "ipython",
    "version": 3
   },
   "file_extension": ".py",
   "mimetype": "text/x-python",
   "name": "python",
   "nbconvert_exporter": "python",
   "pygments_lexer": "ipython3",
   "version": "3.12.2"
  }
 },
 "nbformat": 4,
 "nbformat_minor": 5
}
